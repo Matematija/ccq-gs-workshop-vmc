{
 "cells": [
  {
   "cell_type": "markdown",
   "id": "3d32769c",
   "metadata": {},
   "source": [
    "### Natural Gradient Descent\n",
    "\n",
    "In variational calculations, the primary goal is to find the optimal set of parameters, $\\theta_{opt}$, that minimizes the energy expectation value:\n",
    "\n",
    "$$\n",
    "E(\\theta) = \\frac{\\langle\\psi_{\\theta}|H|\\psi_{\\theta}\\rangle}{\\langle\\psi_{\\theta}|\\psi_{\\theta}\\rangle} \\ge E_{0}\n",
    "$$\n",
    "\n",
    "While standard stochastic gradient descent (SGD) is an option, a more general and physically motivated approach is derived from the concept of imaginary time evolution.\n",
    "\n",
    "### Imaginary Time Evolution as Optimization\n",
    "\n",
    "Imaginary time evolution is a well-known method for systematically filtering out the ground state component $|0\\rangle$ from an arbitrary trial state $|\\psi\\rangle$ (provided they are not orthogonal). This is expressed as:\n",
    "\n",
    "$$\n",
    "|0\\rangle \\propto \\lim_{\\tau\\rightarrow\\infty} e^{-\\tau H} |\\psi\\rangle\n",
    "$$\n",
    "\n",
    "By expanding the trial state in the energy eigenbasis ($H|n\\rangle = E_n|n\\rangle$), we can see why this works[cite: 218]:\n",
    "\n",
    "$$\n",
    "e^{-\\tau H}|\\psi\\rangle = \\sum_{n} c_n e^{-\\tau E_n} |n\\rangle \\propto |0\\rangle + \\sum_{n>0} \\frac{c_n}{c_0} e^{-\\tau(E_n - E_0)} |n\\rangle\n",
    "$$\n",
    "\n",
    "Because $E_n > E_0$ for all excited states ($n>0$), this second term vanishes as $\\tau \\rightarrow \\infty$, leaving only the ground state.\n",
    "\n",
    "### Projecting onto the Variational Manifold\n",
    "\n",
    "We apply this concept iteratively to our variational state $|\\psi_{\\theta}\\rangle$ using small time steps $\\delta\\tau$. The parameters are updated $\\theta' = \\theta + \\delta\\theta$ so that the new state approximates the imaginary time-evolved state:\n",
    "\n",
    "$$\n",
    "|\\psi_{\\theta+\\delta\\theta}\\rangle \\propto e^{-\\delta\\tau H} |\\psi_{\\theta}\\rangle\n",
    "$$\n",
    "\n",
    "By expanding both sides to the first order and taking the limit $\\delta\\tau \\rightarrow 0$, we arrive at a differential equation for the parameters $\\theta$:\n",
    "\n",
    "$$\n",
    "S\\dot{\\theta} = -g\n",
    "$$\n",
    "\n",
    "Here, $\\dot{\\theta} = d\\theta/d\\tau$, and $S$ and $g$ are defined as:\n",
    "* $g_{\\mu} = 2~\\text{Re}\\{\\langle\\mathcal{O}_{\\mu}^{\\dagger}H\\rangle - \\langle\\mathcal{O}_{\\mu}^{\\dagger}\\rangle\\langle H\\rangle\\}$\n",
    "* $S_{\\mu\\nu} = 2~\\text{Re}\\{\\langle\\mathcal{O}_{\\mu}^{\\dagger}\\mathcal{O}_{\\nu}\\rangle - \\langle\\mathcal{O}_{\\mu}^{\\dagger}\\rangle\\langle\\mathcal{O}_{\\nu}\\rangle\\}$\n",
    "\n",
    "The vector $g$ is exactly the gradient of the energy, $g = \\nabla_{\\theta}E(\\theta)$.\n",
    "\n",
    "---\n",
    "\n",
    "### The Quantum Geometric Tensor (S)\n",
    "\n",
    "The matrix $S$ is the crucial component. It is known as the **Quantum Geometric Tensor (QGT)** or the quantum Fisher information matrix.\n",
    "\n",
    "This matrix acts as the **metric tensor** of the variational manifold $\\mathcal{M}_{\\psi}$. It measures the distance between two infinitesimally close quantum states. This is evident in the expansion of the quantum fidelity $F$ between a state and its slightly perturbed version:\n",
    "\n",
    "$$\n",
    "F(\\psi_{\\theta+\\delta\\theta}, \\psi_{\\theta}) = \\frac{|\\langle\\psi_{\\theta+\\delta\\theta}|\\psi_{\\theta}\\rangle|^2}{\\langle\\psi_{\\theta+\\delta\\theta}|\\psi_{\\theta+\\delta\\theta}\\rangle\\langle\\psi_{\\theta}|\\psi_{\\theta}\\rangle} = 1 - \\frac{1}{2}\\sum_{\\mu\\nu}S_{\\mu\\nu}\\delta\\theta^{\\mu}\\delta\\theta^{\\nu} + \\dots\n",
    "$$\n",
    "\n",
    "This provides a clear geometrical picture: imaginary time evolution defines a trajectory in the full Hilbert space toward the ground state. Our optimization procedure projects this true trajectory onto the curved variational manifold $\\mathcal{M}_{\\psi}$, and the path along this manifold is governed by the equation $S\\dot{\\theta} = -g$.\n",
    "\n",
    "### The QNG / SR Update Rule\n",
    "\n",
    "The **Quantum Natural Gradient (QNG)**, also known as **Stochastic Reconfiguration (SR)**, is derived by simply discretizing the differential equation $S\\dot{\\theta} = -g$ using a simple Euler integrator.\n",
    "\n",
    "This gives the parameter update rule:\n",
    "\n",
    "$$\n",
    "\\theta^{\\prime} = \\theta - \\delta\\tau S^{-1}g\n",
    "$$\n",
    "\n",
    "\n",
    "This contrasts sharply with standard Stochastic Gradient Descent (SGD), which is recovered if we make the crude approximation that the metric is the identity matrix, $S \\approx I$:\n",
    "\n",
    "$$\n",
    "\\theta^{\\prime} = \\theta - \\eta \\nabla_{\\theta}E(\\theta)\n",
    "$$\n",
    "\n",
    "\n",
    "The QNG/SR algorithm can be understood as performing the steepest descent in a *curved space* defined by the metric $S$, which guarantees that the updated state remains close to the initial state in the proper Fubini-Study metric."
   ]
  },
  {
   "cell_type": "code",
   "execution_count": null,
   "id": "b21297b4",
   "metadata": {
    "vscode": {
     "languageId": "plaintext"
    }
   },
   "outputs": [],
   "source": []
  },
  {
   "cell_type": "markdown",
   "id": "7cce4257",
   "metadata": {},
   "source": [
    "---\n",
    "\n",
    "### Exercise: Write the JAX code that evaluates the QGT matrix S"
   ]
  },
  {
   "cell_type": "code",
   "execution_count": null,
   "id": "15dfcc3f",
   "metadata": {
    "vscode": {
     "languageId": "plaintext"
    }
   },
   "outputs": [],
   "source": []
  },
  {
   "cell_type": "code",
   "execution_count": null,
   "id": "0ab026b6",
   "metadata": {
    "vscode": {
     "languageId": "plaintext"
    }
   },
   "outputs": [],
   "source": []
  }
 ],
 "metadata": {
  "language_info": {
   "name": "python"
  }
 },
 "nbformat": 4,
 "nbformat_minor": 5
}
